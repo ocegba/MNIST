{
 "cells": [
  {
   "attachments": {},
   "cell_type": "markdown",
   "metadata": {},
   "source": [
    "# Import files"
   ]
  },
  {
   "cell_type": "code",
   "execution_count": 37,
   "metadata": {},
   "outputs": [],
   "source": [
    "import tensorflow as tf\n",
    "from tensorflow.keras.datasets import mnist\n",
    "from tensorflow.keras.models import Sequential\n",
    "from tensorflow.keras.metrics import Precision, Recall\n",
    "from tensorflow.keras.layers import Input, Dense, Dropout, Flatten, Conv2D, MaxPooling2D, SeparableConv2D, BatchNormalization\n",
    "from tensorflow.keras.optimizers import Adam\n",
    "from tensorflow.keras.preprocessing.image import ImageDataGenerator\n",
    "from tensorflow.keras.callbacks import ReduceLROnPlateau, LearningRateScheduler, EarlyStopping, LambdaCallback, ModelCheckpoint\n",
    "from tensorflow.keras import backend as K\n",
    "\n",
    "from sklearn.model_selection import train_test_split\n",
    "from sklearn.metrics import classification_report, confusion_matrix\n",
    "from sklearn.metrics import accuracy_score, precision_score, recall_score\n",
    "from sklearn.metrics import precision_recall_curve, roc_curve\n",
    "\n",
    "import numpy as np\n",
    "import matplotlib.pyplot as plt\n",
    "import seaborn as sns"
   ]
  },
  {
   "cell_type": "code",
   "execution_count": 38,
   "metadata": {},
   "outputs": [],
   "source": [
    "import tensorflow.keras.backend as K\n",
    "K.clear_session()\n"
   ]
  },
  {
   "attachments": {},
   "cell_type": "markdown",
   "metadata": {},
   "source": [
    "# Hyperparameters"
   ]
  },
  {
   "cell_type": "code",
   "execution_count": 39,
   "metadata": {},
   "outputs": [],
   "source": [
    "num_classes = 10\n",
    "batch_size = 256\n",
    "epochs = 100"
   ]
  },
  {
   "attachments": {},
   "cell_type": "markdown",
   "metadata": {},
   "source": [
    "# Image Resolution"
   ]
  },
  {
   "cell_type": "code",
   "execution_count": 40,
   "metadata": {},
   "outputs": [],
   "source": [
    "img_rows, img_cols = 28, 28"
   ]
  },
  {
   "attachments": {},
   "cell_type": "markdown",
   "metadata": {},
   "source": [
    "# Loading the data.\n"
   ]
  },
  {
   "cell_type": "code",
   "execution_count": 41,
   "metadata": {},
   "outputs": [],
   "source": [
    "(x_train, y_train), (x_test, y_test) = mnist.load_data()\n",
    "x_train, x_val, y_train, y_val = train_test_split(x_train, y_train, test_size=10000, random_state=42)"
   ]
  },
  {
   "attachments": {},
   "cell_type": "markdown",
   "metadata": {},
   "source": [
    "# Preparing the data"
   ]
  },
  {
   "cell_type": "code",
   "execution_count": 42,
   "metadata": {},
   "outputs": [],
   "source": [
    "if K.image_data_format() == 'channels_first':\n",
    "    x_train = x_train.reshape(x_train.shape[0], 1, img_rows, img_cols)\n",
    "    x_test = x_test.reshape(x_test.shape[0], 1, img_rows, img_cols)\n",
    "    x_val = x_val.reshape(x_test.shape[0], 1, img_rows, img_cols)\n",
    "    input_shape = (1, img_rows, img_cols)\n",
    "else:\n",
    "    x_train = x_train.reshape(x_train.shape[0], img_rows, img_cols, 1)\n",
    "    x_test = x_test.reshape(x_test.shape[0], img_rows, img_cols, 1)\n",
    "    x_val = x_val.reshape(x_test.shape[0], img_rows, img_cols, 1)\n",
    "    input_shape = (img_rows, img_cols, 1)"
   ]
  },
  {
   "cell_type": "code",
   "execution_count": null,
   "metadata": {},
   "outputs": [],
   "source": []
  },
  {
   "cell_type": "code",
   "execution_count": 43,
   "metadata": {},
   "outputs": [
    {
     "name": "stdout",
     "output_type": "stream",
     "text": [
      "x_train shape: (50000, 28, 28, 1)\n",
      "50000 train samples\n",
      "10000 test samples\n"
     ]
    }
   ],
   "source": [
    "x_train = x_train.astype('float32')\n",
    "x_test = x_test.astype('float32')\n",
    "x_val = x_val.astype('float32')\n",
    "x_val /= 255\n",
    "x_train /= 255\n",
    "x_test /= 255\n",
    "print('x_train shape:', x_train.shape)\n",
    "print(x_train.shape[0], 'train samples')\n",
    "print(x_test.shape[0], 'test samples')\n"
   ]
  },
  {
   "cell_type": "code",
   "execution_count": 44,
   "metadata": {},
   "outputs": [],
   "source": [
    "y_train = tf.keras.utils.to_categorical(y_train, num_classes)\n",
    "y_val = tf.keras.utils.to_categorical(y_val, num_classes)\n",
    "y_test = tf.keras.utils.to_categorical(y_test, num_classes)"
   ]
  },
  {
   "attachments": {},
   "cell_type": "markdown",
   "metadata": {},
   "source": [
    "# Creating the Model "
   ]
  },
  {
   "attachments": {},
   "cell_type": "markdown",
   "metadata": {},
   "source": [
    "## Model"
   ]
  },
  {
   "cell_type": "code",
   "execution_count": 45,
   "metadata": {},
   "outputs": [],
   "source": [
    "model = Sequential()\n",
    "\n",
    "model.add(Input(shape=input_shape))\n",
    "\n",
    "# Convolutional layers\n",
    "model.add(Conv2D(16, 3, activation='relu'))\n",
    "model.add(Conv2D(16, 3, activation='relu'))\n",
    "model.add(Conv2D(16, 3, activation='relu'))\n",
    "model.add(MaxPooling2D())\n",
    "\n",
    "model.add(SeparableConv2D(32, 3, activation='relu', padding='same'))\n",
    "model.add(SeparableConv2D(32, 3, activation='relu', padding='same'))\n",
    "model.add(BatchNormalization())\n",
    "model.add(BatchNormalization())\n",
    "model.add(MaxPooling2D())\n",
    "\n",
    "model.add(SeparableConv2D(64, 3, activation='relu', padding='same'))\n",
    "model.add(SeparableConv2D(64, 3, activation='relu', padding='same'))\n",
    "model.add(BatchNormalization())\n",
    "model.add(BatchNormalization())\n",
    "model.add(MaxPooling2D())\n",
    "\n",
    "model.add(SeparableConv2D(128, 3, activation='relu', padding='same'))\n",
    "model.add(SeparableConv2D(128, 3, activation='relu', padding='same'))\n",
    "model.add(BatchNormalization())\n",
    "model.add(BatchNormalization())\n",
    "model.add(MaxPooling2D())\n",
    "\n",
    "model.add(Dropout(0.2))\n",
    "\n",
    "model.add(SeparableConv2D(256, 3, activation='relu', padding='same'))\n",
    "model.add(SeparableConv2D(256, 3, activation='relu', padding='same'))\n",
    "model.add(BatchNormalization())\n",
    "model.add(BatchNormalization())\n",
    "\n",
    "model.add(Dropout(0.2))\n",
    "\n",
    "model.add(SeparableConv2D(256, 3, activation='relu', padding='same'))\n",
    "model.add(SeparableConv2D(256, 3, activation='relu', padding='same'))\n",
    "model.add(BatchNormalization())\n",
    "model.add(BatchNormalization())\n",
    "   \n",
    "model.add(Flatten())\n",
    "\n",
    "model.add(Dense(units=512, activation='relu'))\n",
    "model.add(BatchNormalization())\n",
    "model.add(Dropout(0.7))\n",
    "\n",
    "model.add(Dense(units=128, activation='relu'))\n",
    "model.add(BatchNormalization())\n",
    "model.add(Dropout(0.5))\n",
    "          \n",
    "model.add(Dense(units=64, activation='relu'))\n",
    "model.add(BatchNormalization())\n",
    "model.add(Dropout(0.3))\n",
    "          \n",
    "model.add(Dense(units=10, activation='sigmoid'))\n",
    "\n",
    "\n",
    "# Compile the model\n",
    "model.compile(optimizer=Adam(), \n",
    "              loss='binary_crossentropy', \n",
    "              metrics=['accuracy', \n",
    "                       Precision(name='precision'),\n",
    "                       Recall(name='recall')\n",
    "])\n"
   ]
  },
  {
   "attachments": {},
   "cell_type": "markdown",
   "metadata": {},
   "source": [
    "## Print the model summary\n"
   ]
  },
  {
   "cell_type": "code",
   "execution_count": 46,
   "metadata": {},
   "outputs": [
    {
     "name": "stdout",
     "output_type": "stream",
     "text": [
      "Model: \"sequential\"\n",
      "_________________________________________________________________\n",
      " Layer (type)                Output Shape              Param #   \n",
      "=================================================================\n",
      " conv2d (Conv2D)             (None, 26, 26, 16)        160       \n",
      "                                                                 \n",
      " conv2d_1 (Conv2D)           (None, 24, 24, 16)        2320      \n",
      "                                                                 \n",
      " conv2d_2 (Conv2D)           (None, 22, 22, 16)        2320      \n",
      "                                                                 \n",
      " max_pooling2d (MaxPooling2D  (None, 11, 11, 16)       0         \n",
      " )                                                               \n",
      "                                                                 \n",
      " separable_conv2d (Separable  (None, 11, 11, 32)       688       \n",
      " Conv2D)                                                         \n",
      "                                                                 \n",
      " separable_conv2d_1 (Separab  (None, 11, 11, 32)       1344      \n",
      " leConv2D)                                                       \n",
      "                                                                 \n",
      " batch_normalization (BatchN  (None, 11, 11, 32)       128       \n",
      " ormalization)                                                   \n",
      "                                                                 \n",
      " batch_normalization_1 (Batc  (None, 11, 11, 32)       128       \n",
      " hNormalization)                                                 \n",
      "                                                                 \n",
      " max_pooling2d_1 (MaxPooling  (None, 5, 5, 32)         0         \n",
      " 2D)                                                             \n",
      "                                                                 \n",
      " separable_conv2d_2 (Separab  (None, 5, 5, 64)         2400      \n",
      " leConv2D)                                                       \n",
      "                                                                 \n",
      " separable_conv2d_3 (Separab  (None, 5, 5, 64)         4736      \n",
      " leConv2D)                                                       \n",
      "                                                                 \n",
      " batch_normalization_2 (Batc  (None, 5, 5, 64)         256       \n",
      " hNormalization)                                                 \n",
      "                                                                 \n",
      " batch_normalization_3 (Batc  (None, 5, 5, 64)         256       \n",
      " hNormalization)                                                 \n",
      "                                                                 \n",
      " max_pooling2d_2 (MaxPooling  (None, 2, 2, 64)         0         \n",
      " 2D)                                                             \n",
      "                                                                 \n",
      " separable_conv2d_4 (Separab  (None, 2, 2, 128)        8896      \n",
      " leConv2D)                                                       \n",
      "                                                                 \n",
      " separable_conv2d_5 (Separab  (None, 2, 2, 128)        17664     \n",
      " leConv2D)                                                       \n",
      "                                                                 \n",
      " batch_normalization_4 (Batc  (None, 2, 2, 128)        512       \n",
      " hNormalization)                                                 \n",
      "                                                                 \n",
      " batch_normalization_5 (Batc  (None, 2, 2, 128)        512       \n",
      " hNormalization)                                                 \n",
      "                                                                 \n",
      " max_pooling2d_3 (MaxPooling  (None, 1, 1, 128)        0         \n",
      " 2D)                                                             \n",
      "                                                                 \n",
      " dropout (Dropout)           (None, 1, 1, 128)         0         \n",
      "                                                                 \n",
      " separable_conv2d_6 (Separab  (None, 1, 1, 256)        34176     \n",
      " leConv2D)                                                       \n",
      "                                                                 \n",
      " separable_conv2d_7 (Separab  (None, 1, 1, 256)        68096     \n",
      " leConv2D)                                                       \n",
      "                                                                 \n",
      " batch_normalization_6 (Batc  (None, 1, 1, 256)        1024      \n",
      " hNormalization)                                                 \n",
      "                                                                 \n",
      " batch_normalization_7 (Batc  (None, 1, 1, 256)        1024      \n",
      " hNormalization)                                                 \n",
      "                                                                 \n",
      " dropout_1 (Dropout)         (None, 1, 1, 256)         0         \n",
      "                                                                 \n",
      " separable_conv2d_8 (Separab  (None, 1, 1, 256)        68096     \n",
      " leConv2D)                                                       \n",
      "                                                                 \n",
      " separable_conv2d_9 (Separab  (None, 1, 1, 256)        68096     \n",
      " leConv2D)                                                       \n",
      "                                                                 \n",
      " batch_normalization_8 (Batc  (None, 1, 1, 256)        1024      \n",
      " hNormalization)                                                 \n",
      "                                                                 \n",
      " batch_normalization_9 (Batc  (None, 1, 1, 256)        1024      \n",
      " hNormalization)                                                 \n",
      "                                                                 \n",
      " flatten (Flatten)           (None, 256)               0         \n",
      "                                                                 \n",
      " dense (Dense)               (None, 512)               131584    \n",
      "                                                                 \n",
      " batch_normalization_10 (Bat  (None, 512)              2048      \n",
      " chNormalization)                                                \n",
      "                                                                 \n",
      " dropout_2 (Dropout)         (None, 512)               0         \n",
      "                                                                 \n",
      " dense_1 (Dense)             (None, 128)               65664     \n",
      "                                                                 \n",
      " batch_normalization_11 (Bat  (None, 128)              512       \n",
      " chNormalization)                                                \n",
      "                                                                 \n",
      " dropout_3 (Dropout)         (None, 128)               0         \n",
      "                                                                 \n",
      " dense_2 (Dense)             (None, 64)                8256      \n",
      "                                                                 \n",
      " batch_normalization_12 (Bat  (None, 64)               256       \n",
      " chNormalization)                                                \n",
      "                                                                 \n",
      " dropout_4 (Dropout)         (None, 64)                0         \n",
      "                                                                 \n",
      " dense_3 (Dense)             (None, 10)                650       \n",
      "                                                                 \n",
      "=================================================================\n",
      "Total params: 493,850\n",
      "Trainable params: 489,498\n",
      "Non-trainable params: 4,352\n",
      "_________________________________________________________________\n"
     ]
    }
   ],
   "source": [
    "model.summary()"
   ]
  },
  {
   "attachments": {},
   "cell_type": "markdown",
   "metadata": {},
   "source": [
    "## Image Generator"
   ]
  },
  {
   "cell_type": "code",
   "execution_count": 47,
   "metadata": {},
   "outputs": [],
   "source": [
    "# datagen = ImageDataGenerator(\n",
    "#     featurewise_center=False,  # Ne pas centrer les données par rapport à la moyenne de l'ensemble du dataset\n",
    "#     samplewise_center=False,   # Ne pas centrer les données par rapport à la moyenne de chaque échantillon\n",
    "#     featurewise_std_normalization=False,  # Ne pas normaliser les données en les divisant par l'écart type de l'ensemble du dataset\n",
    "#     samplewise_std_normalization=False,   # Ne pas normaliser les données en les divisant par l'écart type de chaque échantillon\n",
    "#     zca_whitening=False,  # Ne pas appliquer le blanchiment ZCA (décorrélation des features)\n",
    "# #     zca_epsilon=1e-06,  # Valeur d'épison pour la stabilisation du blanchiment ZCA (non utilisée dans ce cas)\n",
    "# #    rotation_range=0,  # Aucune rotation aléatoire des images\n",
    "# #    width_shift_range=0.1,  # Décalage horizontal aléatoire des images de 10% de la largeur totale\n",
    "# #    height_shift_range=0.1,  # Décalage vertical aléatoire des images de 10% de la hauteur totale\n",
    "# #     brightness_range=None,  # Pas de modification aléatoire de la luminosité des images\n",
    "# #     shear_range=0.0,  # Pas de cisaillement aléatoire des images\n",
    "#     zoom_range=0.1,  # Zoom aléatoire des images de 10%\n",
    "# #     channel_shift_range=0.0,  # Pas de décalage aléatoire des canaux de couleur des images\n",
    "# #     fill_mode='nearest',  # Mode de remplissage pour les pixels nouvellement créés lors des transformations (non utilisé dans ce cas)\n",
    "# #     cval=0.0,  # Valeur de remplissage pour les pixels nouvellement créés lors des transformations (non utilisé dans ce cas)\n",
    "# #    horizontal_flip=True,   # Retournement horizontal aléatoire des images\n",
    "# #    vertical_flip=False,    # Pas de retournement vertical aléatoire des images\n",
    "# #     rescale=None,  # Pas de redimensionnement des valeurs des pixels (non utilisé dans ce cas)\n",
    "# #     preprocessing_function=None,  # Fonction de prétraitement supplémentaire à appliquer aux images (non utilisée dans ce cas)\n",
    "# #     data_format=None,  # Format des données (non spécifié dans ce cas)\n",
    "# #     validation_split=0.0,  # Fraction des données à utiliser pour la validation (non utilisée dans ce cas)\n",
    "# #     interpolation_order=1,  # Ordre d'interpolation pour les transformations (non spécifié dans ce cas)\n",
    "# #     dtype=None  # Type de données pour les images (non spécifié dans ce cas)\n",
    "# )\n",
    "\n",
    "# datagen.fit(x_train)\n",
    "# datagen_train = datagen.flow(x_train, y_train, batch_size=batch_size)\n",
    "# datagen_val= datagen.flow(x_test, y_test, batch_size=batch_size)"
   ]
  },
  {
   "attachments": {},
   "cell_type": "markdown",
   "metadata": {},
   "source": [
    "## Callbacks"
   ]
  },
  {
   "cell_type": "code",
   "execution_count": 48,
   "metadata": {},
   "outputs": [],
   "source": [
    "def exponential_decay(lr, s):\n",
    "    def exponential_decay_fn(epoch):\n",
    "        return lr * 0.1 **(epoch / s)\n",
    "    return exponential_decay_fn\n",
    "\n",
    "exponential_decay_fn = exponential_decay(0.01, 12)"
   ]
  },
  {
   "cell_type": "code",
   "execution_count": 49,
   "metadata": {},
   "outputs": [],
   "source": [
    "learning_rate_scheduler = LearningRateScheduler(exponential_decay_fn)\n"
   ]
  },
  {
   "cell_type": "code",
   "execution_count": 50,
   "metadata": {},
   "outputs": [],
   "source": [
    "checkpoint = ModelCheckpoint(\"mnist_model.h5\", monitor=\"val_loss\", verbose=1, save_best_only=True)"
   ]
  },
  {
   "cell_type": "code",
   "execution_count": 51,
   "metadata": {},
   "outputs": [],
   "source": [
    "\"\"\"Stop training when a monitored metric has stopped improving\"\"\"\n",
    "early_stopping = EarlyStopping(\n",
    "    monitor='val_loss',\n",
    "    min_delta=0,\n",
    "    patience=15,\n",
    "    verbose=2,\n",
    "    mode='auto',\n",
    "    baseline=None,\n",
    "    restore_best_weights=False,\n",
    ")"
   ]
  },
  {
   "attachments": {},
   "cell_type": "markdown",
   "metadata": {},
   "source": [
    "## Training the model"
   ]
  },
  {
   "cell_type": "code",
   "execution_count": 52,
   "metadata": {},
   "outputs": [
    {
     "name": "stdout",
     "output_type": "stream",
     "text": [
      "Epoch 1/100\n",
      "195/195 [==============================] - ETA: 0s - loss: 0.2178 - accuracy: 0.5727 - precision: 0.5769 - recall: 0.4254\n",
      "Epoch 1: val_loss improved from inf to 0.41797, saving model to mnist_model.h5\n",
      "195/195 [==============================] - 85s 400ms/step - loss: 0.2178 - accuracy: 0.5727 - precision: 0.5769 - recall: 0.4254 - val_loss: 0.4180 - val_accuracy: 0.0980 - val_precision: 0.0000e+00 - val_recall: 0.0000e+00 - lr: 0.0100\n",
      "Epoch 2/100\n",
      "195/195 [==============================] - ETA: 0s - loss: 0.0492 - accuracy: 0.9390 - precision: 0.9422 - recall: 0.9211\n",
      "Epoch 2: val_loss improved from 0.41797 to 0.17024, saving model to mnist_model.h5\n",
      "195/195 [==============================] - 40s 208ms/step - loss: 0.0492 - accuracy: 0.9390 - precision: 0.9422 - recall: 0.9211 - val_loss: 0.1702 - val_accuracy: 0.6641 - val_precision: 0.6966 - val_recall: 0.5752 - lr: 0.0083\n",
      "Epoch 3/100\n",
      "195/195 [==============================] - ETA: 0s - loss: 0.0291 - accuracy: 0.9661 - precision: 0.9697 - recall: 0.9598\n",
      "Epoch 3: val_loss improved from 0.17024 to 0.02879, saving model to mnist_model.h5\n",
      "195/195 [==============================] - 40s 208ms/step - loss: 0.0291 - accuracy: 0.9661 - precision: 0.9697 - recall: 0.9598 - val_loss: 0.0288 - val_accuracy: 0.9653 - val_precision: 0.9680 - val_recall: 0.9642 - lr: 0.0068\n",
      "Epoch 4/100\n",
      "195/195 [==============================] - ETA: 0s - loss: 0.0213 - accuracy: 0.9752 - precision: 0.9780 - recall: 0.9707\n",
      "Epoch 4: val_loss did not improve from 0.02879\n",
      "195/195 [==============================] - 45s 233ms/step - loss: 0.0213 - accuracy: 0.9752 - precision: 0.9780 - recall: 0.9707 - val_loss: 0.0728 - val_accuracy: 0.9037 - val_precision: 0.9114 - val_recall: 0.8969 - lr: 0.0056\n",
      "Epoch 5/100\n",
      "195/195 [==============================] - ETA: 0s - loss: 0.0163 - accuracy: 0.9815 - precision: 0.9838 - recall: 0.9782\n",
      "Epoch 5: val_loss did not improve from 0.02879\n",
      "195/195 [==============================] - 48s 245ms/step - loss: 0.0163 - accuracy: 0.9815 - precision: 0.9838 - recall: 0.9782 - val_loss: 0.0765 - val_accuracy: 0.8912 - val_precision: 0.8970 - val_recall: 0.8851 - lr: 0.0046\n",
      "Epoch 6/100\n",
      "195/195 [==============================] - ETA: 0s - loss: 0.0135 - accuracy: 0.9847 - precision: 0.9865 - recall: 0.9822\n",
      "Epoch 6: val_loss improved from 0.02879 to 0.01874, saving model to mnist_model.h5\n",
      "195/195 [==============================] - 50s 256ms/step - loss: 0.0135 - accuracy: 0.9847 - precision: 0.9865 - recall: 0.9822 - val_loss: 0.0187 - val_accuracy: 0.9773 - val_precision: 0.9791 - val_recall: 0.9758 - lr: 0.0038\n",
      "Epoch 7/100\n",
      "195/195 [==============================] - ETA: 0s - loss: 0.0110 - accuracy: 0.9871 - precision: 0.9889 - recall: 0.9848\n",
      "Epoch 7: val_loss improved from 0.01874 to 0.01328, saving model to mnist_model.h5\n",
      "195/195 [==============================] - 52s 267ms/step - loss: 0.0110 - accuracy: 0.9871 - precision: 0.9889 - recall: 0.9848 - val_loss: 0.0133 - val_accuracy: 0.9832 - val_precision: 0.9853 - val_recall: 0.9819 - lr: 0.0032\n",
      "Epoch 8/100\n",
      "195/195 [==============================] - ETA: 0s - loss: 0.0092 - accuracy: 0.9894 - precision: 0.9908 - recall: 0.9878\n",
      "Epoch 8: val_loss improved from 0.01328 to 0.01210, saving model to mnist_model.h5\n",
      "195/195 [==============================] - 43s 222ms/step - loss: 0.0092 - accuracy: 0.9894 - precision: 0.9908 - recall: 0.9878 - val_loss: 0.0121 - val_accuracy: 0.9846 - val_precision: 0.9858 - val_recall: 0.9837 - lr: 0.0026\n",
      "Epoch 9/100\n",
      "195/195 [==============================] - ETA: 0s - loss: 0.0081 - accuracy: 0.9910 - precision: 0.9922 - recall: 0.9894\n",
      "Epoch 9: val_loss did not improve from 0.01210\n",
      "195/195 [==============================] - 42s 215ms/step - loss: 0.0081 - accuracy: 0.9910 - precision: 0.9922 - recall: 0.9894 - val_loss: 0.0509 - val_accuracy: 0.9447 - val_precision: 0.9456 - val_recall: 0.9434 - lr: 0.0022\n",
      "Epoch 10/100\n",
      "195/195 [==============================] - ETA: 0s - loss: 0.0069 - accuracy: 0.9925 - precision: 0.9931 - recall: 0.9912\n",
      "Epoch 10: val_loss improved from 0.01210 to 0.01044, saving model to mnist_model.h5\n",
      "195/195 [==============================] - 52s 269ms/step - loss: 0.0069 - accuracy: 0.9925 - precision: 0.9931 - recall: 0.9912 - val_loss: 0.0104 - val_accuracy: 0.9875 - val_precision: 0.9892 - val_recall: 0.9875 - lr: 0.0018\n",
      "Epoch 11/100\n",
      "195/195 [==============================] - ETA: 0s - loss: 0.0057 - accuracy: 0.9938 - precision: 0.9945 - recall: 0.9928\n",
      "Epoch 11: val_loss improved from 0.01044 to 0.00800, saving model to mnist_model.h5\n",
      "195/195 [==============================] - 52s 267ms/step - loss: 0.0057 - accuracy: 0.9938 - precision: 0.9945 - recall: 0.9928 - val_loss: 0.0080 - val_accuracy: 0.9903 - val_precision: 0.9908 - val_recall: 0.9900 - lr: 0.0015\n",
      "Epoch 12/100\n",
      "195/195 [==============================] - ETA: 0s - loss: 0.0052 - accuracy: 0.9943 - precision: 0.9949 - recall: 0.9933\n",
      "Epoch 12: val_loss did not improve from 0.00800\n",
      "195/195 [==============================] - 52s 264ms/step - loss: 0.0052 - accuracy: 0.9943 - precision: 0.9949 - recall: 0.9933 - val_loss: 0.0087 - val_accuracy: 0.9904 - val_precision: 0.9912 - val_recall: 0.9903 - lr: 0.0012\n",
      "Epoch 13/100\n",
      "195/195 [==============================] - ETA: 0s - loss: 0.0042 - accuracy: 0.9960 - precision: 0.9964 - recall: 0.9953\n",
      "Epoch 13: val_loss did not improve from 0.00800\n",
      "195/195 [==============================] - 55s 283ms/step - loss: 0.0042 - accuracy: 0.9960 - precision: 0.9964 - recall: 0.9953 - val_loss: 0.0143 - val_accuracy: 0.9851 - val_precision: 0.9856 - val_recall: 0.9848 - lr: 0.0010\n",
      "Epoch 14/100\n",
      "195/195 [==============================] - ETA: 0s - loss: 0.0045 - accuracy: 0.9952 - precision: 0.9955 - recall: 0.9944\n",
      "Epoch 14: val_loss did not improve from 0.00800\n",
      "195/195 [==============================] - 53s 274ms/step - loss: 0.0045 - accuracy: 0.9952 - precision: 0.9955 - recall: 0.9944 - val_loss: 0.0090 - val_accuracy: 0.9903 - val_precision: 0.9910 - val_recall: 0.9902 - lr: 8.2540e-04\n",
      "Epoch 15/100\n",
      "195/195 [==============================] - ETA: 0s - loss: 0.0037 - accuracy: 0.9963 - precision: 0.9966 - recall: 0.9957\n",
      "Epoch 15: val_loss did not improve from 0.00800\n",
      "195/195 [==============================] - 58s 295ms/step - loss: 0.0037 - accuracy: 0.9963 - precision: 0.9966 - recall: 0.9957 - val_loss: 0.0090 - val_accuracy: 0.9909 - val_precision: 0.9917 - val_recall: 0.9908 - lr: 6.8129e-04\n",
      "Epoch 16/100\n",
      "195/195 [==============================] - ETA: 0s - loss: 0.0032 - accuracy: 0.9971 - precision: 0.9972 - recall: 0.9966\n",
      "Epoch 16: val_loss did not improve from 0.00800\n",
      "195/195 [==============================] - 41s 213ms/step - loss: 0.0032 - accuracy: 0.9971 - precision: 0.9972 - recall: 0.9966 - val_loss: 0.0098 - val_accuracy: 0.9902 - val_precision: 0.9907 - val_recall: 0.9900 - lr: 5.6234e-04\n",
      "Epoch 17/100\n",
      "195/195 [==============================] - ETA: 0s - loss: 0.0027 - accuracy: 0.9975 - precision: 0.9974 - recall: 0.9972\n",
      "Epoch 17: val_loss did not improve from 0.00800\n",
      "195/195 [==============================] - 42s 215ms/step - loss: 0.0027 - accuracy: 0.9975 - precision: 0.9974 - recall: 0.9972 - val_loss: 0.0094 - val_accuracy: 0.9909 - val_precision: 0.9910 - val_recall: 0.9907 - lr: 4.6416e-04\n",
      "Epoch 18/100\n",
      "195/195 [==============================] - ETA: 0s - loss: 0.0027 - accuracy: 0.9975 - precision: 0.9976 - recall: 0.9970\n",
      "Epoch 18: val_loss did not improve from 0.00800\n",
      "195/195 [==============================] - 41s 212ms/step - loss: 0.0027 - accuracy: 0.9975 - precision: 0.9976 - recall: 0.9970 - val_loss: 0.0101 - val_accuracy: 0.9907 - val_precision: 0.9907 - val_recall: 0.9905 - lr: 3.8312e-04\n",
      "Epoch 19/100\n",
      "195/195 [==============================] - ETA: 0s - loss: 0.0023 - accuracy: 0.9981 - precision: 0.9981 - recall: 0.9977\n",
      "Epoch 19: val_loss did not improve from 0.00800\n",
      "195/195 [==============================] - 42s 213ms/step - loss: 0.0023 - accuracy: 0.9981 - precision: 0.9981 - recall: 0.9977 - val_loss: 0.0100 - val_accuracy: 0.9907 - val_precision: 0.9909 - val_recall: 0.9905 - lr: 3.1623e-04\n",
      "Epoch 20/100\n",
      "195/195 [==============================] - ETA: 0s - loss: 0.0020 - accuracy: 0.9984 - precision: 0.9984 - recall: 0.9981\n",
      "Epoch 20: val_loss did not improve from 0.00800\n",
      "195/195 [==============================] - 42s 215ms/step - loss: 0.0020 - accuracy: 0.9984 - precision: 0.9984 - recall: 0.9981 - val_loss: 0.0108 - val_accuracy: 0.9908 - val_precision: 0.9907 - val_recall: 0.9907 - lr: 2.6102e-04\n",
      "Epoch 21/100\n",
      "195/195 [==============================] - ETA: 0s - loss: 0.0019 - accuracy: 0.9985 - precision: 0.9984 - recall: 0.9983\n",
      "Epoch 21: val_loss did not improve from 0.00800\n",
      "195/195 [==============================] - 42s 215ms/step - loss: 0.0019 - accuracy: 0.9985 - precision: 0.9984 - recall: 0.9983 - val_loss: 0.0106 - val_accuracy: 0.9907 - val_precision: 0.9910 - val_recall: 0.9907 - lr: 2.1544e-04\n",
      "Epoch 22/100\n",
      "195/195 [==============================] - ETA: 0s - loss: 0.0019 - accuracy: 0.9986 - precision: 0.9985 - recall: 0.9983\n",
      "Epoch 22: val_loss did not improve from 0.00800\n",
      "195/195 [==============================] - 53s 272ms/step - loss: 0.0019 - accuracy: 0.9986 - precision: 0.9985 - recall: 0.9983 - val_loss: 0.0111 - val_accuracy: 0.9911 - val_precision: 0.9911 - val_recall: 0.9911 - lr: 1.7783e-04\n",
      "Epoch 23/100\n",
      "195/195 [==============================] - ETA: 0s - loss: 0.0018 - accuracy: 0.9987 - precision: 0.9986 - recall: 0.9984\n",
      "Epoch 23: val_loss did not improve from 0.00800\n",
      "195/195 [==============================] - 59s 302ms/step - loss: 0.0018 - accuracy: 0.9987 - precision: 0.9986 - recall: 0.9984 - val_loss: 0.0106 - val_accuracy: 0.9911 - val_precision: 0.9911 - val_recall: 0.9910 - lr: 1.4678e-04\n",
      "Epoch 24/100\n",
      "195/195 [==============================] - ETA: 0s - loss: 0.0018 - accuracy: 0.9988 - precision: 0.9987 - recall: 0.9985\n",
      "Epoch 24: val_loss did not improve from 0.00800\n",
      "195/195 [==============================] - 45s 232ms/step - loss: 0.0018 - accuracy: 0.9988 - precision: 0.9987 - recall: 0.9985 - val_loss: 0.0106 - val_accuracy: 0.9911 - val_precision: 0.9914 - val_recall: 0.9912 - lr: 1.2115e-04\n",
      "Epoch 25/100\n",
      "195/195 [==============================] - ETA: 0s - loss: 0.0017 - accuracy: 0.9989 - precision: 0.9988 - recall: 0.9985\n",
      "Epoch 25: val_loss did not improve from 0.00800\n",
      "195/195 [==============================] - 41s 210ms/step - loss: 0.0017 - accuracy: 0.9989 - precision: 0.9988 - recall: 0.9985 - val_loss: 0.0114 - val_accuracy: 0.9905 - val_precision: 0.9905 - val_recall: 0.9905 - lr: 1.0000e-04\n",
      "Epoch 26/100\n",
      "195/195 [==============================] - ETA: 0s - loss: 0.0016 - accuracy: 0.9990 - precision: 0.9987 - recall: 0.9987\n",
      "Epoch 26: val_loss did not improve from 0.00800\n",
      "195/195 [==============================] - 38s 196ms/step - loss: 0.0016 - accuracy: 0.9990 - precision: 0.9987 - recall: 0.9987 - val_loss: 0.0113 - val_accuracy: 0.9911 - val_precision: 0.9913 - val_recall: 0.9908 - lr: 8.2540e-05\n",
      "Epoch 26: early stopping\n"
     ]
    }
   ],
   "source": [
    "history = model.fit(x_train,\n",
    "                    y_train,\n",
    "                    batch_size=batch_size,\n",
    "                    epochs=epochs,\n",
    "                    verbose=1,\n",
    "                    callbacks=[learning_rate_scheduler, checkpoint, early_stopping],\n",
    "                    # validation_split=0.0,\n",
    "                    validation_data=(x_val, y_val),\n",
    "                    shuffle=True,\n",
    "                    # class_weight=class_weight,\n",
    "                    # sample_weight=None,\n",
    "                    # initial_epoch=0,\n",
    "                    steps_per_epoch=len(x_train)//batch_size,\n",
    "                    validation_steps=len(x_val)//batch_size,\n",
    "                    # validation_batch_size=None,\n",
    "                    # validation_freq=1,\n",
    "                    # max_queue_size=10,\n",
    "                    # workers=1,\n",
    "                    # use_multiprocessing=False\n",
    ")"
   ]
  },
  {
   "attachments": {},
   "cell_type": "markdown",
   "metadata": {},
   "source": [
    "# Evaluate the model"
   ]
  },
  {
   "cell_type": "code",
   "execution_count": 53,
   "metadata": {},
   "outputs": [
    {
     "name": "stdout",
     "output_type": "stream",
     "text": [
      "Test loss: 0.00714594591408968\n",
      "Test accuracy: 0.9932000041007996\n"
     ]
    }
   ],
   "source": [
    "score = model.evaluate(x_test, y_test, verbose=0)\n",
    "print('Test loss:', score[0])\n",
    "print('Test accuracy:', score[1])"
   ]
  },
  {
   "cell_type": "code",
   "execution_count": 54,
   "metadata": {},
   "outputs": [
    {
     "name": "stdout",
     "output_type": "stream",
     "text": [
      "[[0. 0. 0. ... 0. 0. 0.]\n",
      " [0. 0. 0. ... 0. 0. 0.]\n",
      " [0. 0. 0. ... 0. 0. 0.]\n",
      " ...\n",
      " [0. 0. 0. ... 0. 0. 0.]\n",
      " [0. 0. 0. ... 0. 0. 0.]\n",
      " [0. 0. 0. ... 0. 0. 0.]] \n",
      " [[0. 0. 0. ... 1. 0. 0.]\n",
      " [0. 0. 1. ... 0. 0. 0.]\n",
      " [0. 1. 0. ... 0. 0. 0.]\n",
      " ...\n",
      " [0. 0. 0. ... 0. 0. 0.]\n",
      " [0. 0. 0. ... 0. 0. 0.]\n",
      " [0. 0. 0. ... 0. 0. 0.]]\n"
     ]
    }
   ],
   "source": [
    "predict_out = model.predict(x_test)\n",
    "predicted_labels = np.argmax(predict_out, axis=1)\n",
    "predicted_labels_binary = np.zeros_like(predict_out)  \n",
    "print(predicted_labels_binary, '\\n', y_test)"
   ]
  },
  {
   "cell_type": "code",
   "execution_count": 55,
   "metadata": {},
   "outputs": [],
   "source": [
    "for i in range(len(predicted_labels)):\n",
    "    predicted_labels_binary[i, predicted_labels[i]] = 1"
   ]
  },
  {
   "cell_type": "code",
   "execution_count": 56,
   "metadata": {},
   "outputs": [
    {
     "name": "stdout",
     "output_type": "stream",
     "text": [
      "Accuracy: 0.9932\n",
      "Precision: 0.9932198731179633\n",
      "Recall: 0.9930453136753279\n",
      "F1 score : 0.99313258572622\n"
     ]
    }
   ],
   "source": [
    "accuracy = accuracy_score(y_test, predicted_labels_binary)\n",
    "precision = precision_score(y_test, predicted_labels_binary, average='macro')\n",
    "recall = recall_score(y_test, predicted_labels_binary, average='macro')\n",
    "\n",
    "\n",
    "print(\"Accuracy:\", accuracy)\n",
    "print(\"Precision:\", precision)\n",
    "print(\"Recall:\", recall)\n",
    "print(f'F1 score : {(2*precision*recall)/(precision +  recall)}')"
   ]
  },
  {
   "cell_type": "code",
   "execution_count": 57,
   "metadata": {},
   "outputs": [
    {
     "name": "stdout",
     "output_type": "stream",
     "text": [
      "              precision    recall  f1-score   support\n",
      "\n",
      "           0       0.99      1.00      1.00       980\n",
      "           1       0.99      1.00      1.00      1135\n",
      "           2       1.00      0.99      0.99      1032\n",
      "           3       0.99      1.00      0.99      1010\n",
      "           4       0.99      0.99      0.99       982\n",
      "           5       0.99      0.99      0.99       892\n",
      "           6       1.00      0.99      0.99       958\n",
      "           7       0.99      0.99      0.99      1028\n",
      "           8       0.99      0.99      0.99       974\n",
      "           9       0.99      0.99      0.99      1009\n",
      "\n",
      "   micro avg       0.99      0.99      0.99     10000\n",
      "   macro avg       0.99      0.99      0.99     10000\n",
      "weighted avg       0.99      0.99      0.99     10000\n",
      " samples avg       0.99      0.99      0.99     10000\n",
      "\n"
     ]
    }
   ],
   "source": [
    "classification = classification_report(y_test, predicted_labels_binary, target_names=['0','1','2','3','4', '5', '6', '7', '8', '9'])\n",
    "print(classification)\n"
   ]
  },
  {
   "cell_type": "code",
   "execution_count": 58,
   "metadata": {},
   "outputs": [
    {
     "data": {
      "image/png": "[encoded data removed]",
      "text/plain": [
       "<Figure size 640x480 with 1 Axes>"
      ]
     },
     "metadata": {},
     "output_type": "display_data"
    }
   ],
   "source": [
    "predicted_classes = np.argmax(predicted_labels_binary, axis=1)\n",
    "true_classes = np.argmax(y_test, axis=1)\n",
    "\n",
    "conf_matrix = confusion_matrix(y_true=true_classes, y_pred=predicted_classes)\n",
    "sns.heatmap(conf_matrix, annot=True, cmap='Blues', cbar=False, square=True,  fmt='d',\n",
    "             xticklabels=['0','1','2','3','4','5','6','7','8','9'], yticklabels=['0','1','2','3','4','5','6','7','8','9'])\n",
    "plt.title('Confusion Matrix')\n",
    "plt.xlabel('Predicted')\n",
    "plt.ylabel('True')\n",
    "plt.show()\n"
   ]
  },
  {
   "cell_type": "code",
   "execution_count": 59,
   "metadata": {},
   "outputs": [],
   "source": [
    "from keras.models import load_model\n",
    "\n",
    "# Chargez le modèle depuis le fichier .h5\n",
    "model = load_model('models\\mnist_model.h5')\n",
    "\n",
    "# Convertissez le modèle en format JSON\n",
    "model_json = model.to_json()\n",
    "\n",
    "# Enregistrez le modèle au format JSON dans un fichier\n",
    "with open('models\\model.json', 'w') as json_file:\n",
    "    json_file.write(model_json)"
   ]
  }
 ],
 "metadata": {
  "kernelspec": {
   "display_name": ".venv",
   "language": "python",
   "name": "python3"
  },
  "language_info": {
   "codemirror_mode": {
    "name": "ipython",
    "version": 3
   },
   "file_extension": ".py",
   "mimetype": "text/x-python",
   "name": "python",
   "nbconvert_exporter": "python",
   "pygments_lexer": "ipython3",
   "version": "3.10.9"
  },
  "orig_nbformat": 4
 },
 "nbformat": 4,
 "nbformat_minor": 2
}
